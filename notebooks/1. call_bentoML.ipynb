{
 "cells": [
  {
   "cell_type": "code",
   "execution_count": 1,
   "id": "cd8a0e24",
   "metadata": {},
   "outputs": [],
   "source": [
    "%load_ext autoreload\n",
    "%autoreload 2"
   ]
  },
  {
   "cell_type": "code",
   "execution_count": 2,
   "id": "9e8e2668",
   "metadata": {},
   "outputs": [],
   "source": [
    "import os\n",
    "from dotenv import load_dotenv, find_dotenv\n",
    "\n",
    "_ = load_dotenv(find_dotenv())"
   ]
  },
  {
   "cell_type": "markdown",
   "id": "e13adf39",
   "metadata": {},
   "source": [
    "## Test using OpenAI"
   ]
  },
  {
   "cell_type": "code",
   "execution_count": null,
   "id": "20509cc6",
   "metadata": {},
   "outputs": [],
   "source": [
    "from openai import OpenAI\n",
    "\n",
    "client = OpenAI(\n",
    "    base_url=f'{os.getenv(\"qwen3_endpoint_url\")}/v1',\n",
    "    api_key=os.getenv(\"BENTO_CLOUD_API_KEY\"),\n",
    ")"
   ]
  },
  {
   "cell_type": "code",
   "execution_count": 24,
   "id": "c9ba12bd",
   "metadata": {},
   "outputs": [
    {
     "data": {
      "text/plain": [
       "SyncPage[Model](data=[Model(id='Qwen/Qwen3-8B', created=1755676576, object='model', owned_by='vllm', root='/home/bentoml/bento/hf-models/models--qwen--qwen3-8b/snapshots/b968826d9c46dd6066d109eabc6255188de91218', parent=None, max_model_len=16548, permission=[{'id': 'modelperm-6b864e43fb80479c92e5ce8341e2c5ee', 'object': 'model_permission', 'created': 1755676576, 'allow_create_engine': False, 'allow_sampling': True, 'allow_logprobs': True, 'allow_search_indices': False, 'allow_view': True, 'allow_fine_tuning': False, 'organization': '*', 'group': None, 'is_blocking': False}])], object='list')"
      ]
     },
     "execution_count": 24,
     "metadata": {},
     "output_type": "execute_result"
    }
   ],
   "source": [
    "client.models.list()"
   ]
  },
  {
   "cell_type": "code",
   "execution_count": 25,
   "id": "6ab1edd8",
   "metadata": {},
   "outputs": [],
   "source": [
    "response = client.chat.completions.create(\n",
    "    model=\"Qwen/Qwen3-8B\",\n",
    "    messages=[\n",
    "        {\"role\": \"system\", \"content\": \"You are a helpful assistant.\"},\n",
    "        {\"role\":\"user\", \"content\":\"Explan what quantum computers are and how they work like I'm a 16-year-old.\"},\n",
    "    ],\n",
    ")"
   ]
  },
  {
   "cell_type": "code",
   "execution_count": 29,
   "id": "678c2abf",
   "metadata": {},
   "outputs": [
    {
     "data": {
      "text/markdown": [
       "\n",
       "\n",
       "Sure! Let me break it down like you're 16 and trying to get the hang of it.  \n",
       "\n",
       "**What is a quantum computer?**  \n",
       "Imagine a regular computer as a superhero who can only do one thing at a time. Like, if you ask it to solve a puzzle, it checks one piece at a time. But a **quantum computer** is like a superhero with *superpowers*—it can check *all the pieces at once*!  \n",
       "\n",
       "**How does it work?**  \n",
       "Regular computers use **bits** (0s and 1s) to store information. Think of them like light switches: they’re either *on* (1) or *off* (0). But quantum computers use **qubits**. Here’s the magic:  \n",
       "- **Superposition**: A qubit can be both 0 and 1 at the same time, like a spinning coin that’s *both heads and tails* until it lands. This lets quantum computers process *many possibilities* simultaneously.  \n",
       "- **Entanglement**: Qubits can be linked, so changing one instantly affects the other, no matter how far apart they are. It’s like having two coins that *know* each other’s state, even if they’re on opposite sides of the universe.  \n",
       "\n",
       "**Why is this cool?**  \n",
       "Quantum computers can solve certain problems way faster than regular computers. For example:  \n",
       "- **Breaking codes** (though they’re still working on that).  \n",
       "- **Simulating molecules** for new drugs or materials.  \n",
       "- **Optimizing complex systems** like traffic routes or financial models.  \n",
       "\n",
       "**But wait…**  \n",
       "They’re not *better* at everything. They’re like a supercharged calculator for specific tasks. Plus, they’re tricky to build because qubits are super sensitive to outside interference (like a coin spinning in a storm).  \n",
       "\n",
       "**In short**:  \n",
       "Quantum computers use qubits that can be in multiple states at once and link together magically. They’re not replacing your phone, but they might revolutionize fields like medicine or AI in the future! 🌌✨  \n",
       "\n",
       "Want to know how they’re built? It’s like building a machine that can *see* all possible answers at once—kinda like a time machine for data! 😄"
      ],
      "text/plain": [
       "<IPython.core.display.Markdown object>"
      ]
     },
     "metadata": {},
     "output_type": "display_data"
    }
   ],
   "source": [
    "from IPython.display import display, Markdown\n",
    "\n",
    "display(Markdown(response.choices[0].message.content))"
   ]
  },
  {
   "cell_type": "markdown",
   "id": "b879291c",
   "metadata": {},
   "source": [
    "## Powering Llama Cloud Index with our BentoML deployment"
   ]
  },
  {
   "cell_type": "code",
   "execution_count": 31,
   "id": "9fb50347",
   "metadata": {},
   "outputs": [],
   "source": [
    "from llama_index.indices.managed.llama_cloud import LlamaCloudIndex\n",
    "from llama_index.llms.openai_like import OpenAILike\n",
    "\n",
    "LLAMA_CLOUD_API_KEY = os.environ['LLAMA_CLOUD_API_KEY']\n",
    "\n",
    "kwargs = {\n",
    "    'dense_similarity_top_k': 10,\n",
    "    'sparse_similarity_top_k': 20,\n",
    "    'enable_reranking': True,\n",
    "    'alpha': 0.5,\n",
    "    'rerank_top_n': 8\n",
    "}\n",
    "\n",
    "alita_index = LlamaCloudIndex(\n",
    "    name=\"alita-paper\",\n",
    "    project_name=\"Default\",\n",
    "    organization_id=\"bf9b425c-54cb-4182-a93f-8ac6aed04348\",\n",
    "    api_key=LLAMA_CLOUD_API_KEY,\n",
    ")\n",
    "\n",
    "mcp_zero_index = LlamaCloudIndex(\n",
    "    name=\"mcp-zero-paper\",\n",
    "    project_name=\"Default\",\n",
    "    organization_id=\"bf9b425c-54cb-4182-a93f-8ac6aed04348\",\n",
    "    api_key=LLAMA_CLOUD_API_KEY,\n",
    ")"
   ]
  },
  {
   "cell_type": "code",
   "execution_count": null,
   "id": "c35d8cb3",
   "metadata": {},
   "outputs": [],
   "source": [
    "llm = OpenAILike(\n",
    "    model=\"Qwen/Qwen3-8B\",\n",
    "    api_key=os.getenv(\"BENTO_CLOUD_API_KEY\"),\n",
    "    api_base=f'{os.getenv(\"qwen3_endpoint_url\")}/v1',\n",
    "    is_chat_model=True,\n",
    "    is_function_calling_model=True,\n",
    "    temperature=0,\n",
    ")"
   ]
  },
  {
   "cell_type": "code",
   "execution_count": 33,
   "id": "ee364da2",
   "metadata": {},
   "outputs": [],
   "source": [
    "alita_engine = alita_index.as_query_engine(llm=llm, **kwargs)\n",
    "mcp_zero_engine = mcp_zero_index.as_query_engine(llm=llm, **kwargs)"
   ]
  },
  {
   "cell_type": "code",
   "execution_count": 34,
   "id": "5dc46039",
   "metadata": {},
   "outputs": [
    {
     "data": {
      "text/markdown": [
       "\n",
       "\n",
       "MCP-Zero is an innovative framework designed to enhance the autonomy of large language models (LLMs) in discovering and utilizing tools dynamically. Unlike traditional approaches that embed all available tools into prompts, MCP-Zero enables LLMs to actively identify their capability gaps and request specific tools on-demand, transforming them into autonomous agents rather than passive selectors.  \n",
       "\n",
       "The framework operates through three core mechanisms:  \n",
       "1. **Active Tool Request**: LLMs generate structured requests to specify their exact tool requirements, ensuring alignment between task needs and available tools.  \n",
       "2. **Hierarchical Semantic Routing**: A two-stage process filters relevant servers based on platform requirements and ranks tools within those servers using semantic similarity, optimizing precision and reducing search complexity.  \n",
       "3. **Iterative Capability Extension**: Agents progressively build cross-domain toolchains during task execution, refining their requests and discovering alternative tools as needed, which enhances adaptability and fault tolerance.  \n",
       "\n",
       "This approach minimizes context overhead, maintains high accuracy in multi-turn interactions, and scales efficiently with expanding tool ecosystems. By prioritizing dynamic, on-demand tool discovery, MCP-Zero addresses limitations of static retrieval methods and supports robust, scalable autonomous agent systems."
      ],
      "text/plain": [
       "<IPython.core.display.Markdown object>"
      ]
     },
     "metadata": {},
     "output_type": "display_data"
    }
   ],
   "source": [
    "response = mcp_zero_engine.query(\"What is MCP zero and how does it work?\")\n",
    "display(Markdown(str(response)))"
   ]
  },
  {
   "cell_type": "code",
   "execution_count": null,
   "id": "242b7cde",
   "metadata": {},
   "outputs": [],
   "source": []
  }
 ],
 "metadata": {
  "kernelspec": {
   "display_name": "deep-agents-playground",
   "language": "python",
   "name": "python3"
  },
  "language_info": {
   "codemirror_mode": {
    "name": "ipython",
    "version": 3
   },
   "file_extension": ".py",
   "mimetype": "text/x-python",
   "name": "python",
   "nbconvert_exporter": "python",
   "pygments_lexer": "ipython3",
   "version": "3.12.5"
  }
 },
 "nbformat": 4,
 "nbformat_minor": 5
}
